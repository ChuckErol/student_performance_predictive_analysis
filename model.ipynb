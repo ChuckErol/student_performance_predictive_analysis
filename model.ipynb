{
 "cells": [
  {
   "cell_type": "code",
   "execution_count": 16,
   "metadata": {},
   "outputs": [
    {
     "name": "stdout",
     "output_type": "stream",
     "text": [
      "Training Data Score: 0.9541479286300485\n",
      "Testing Data Score: 0.9532471681022928\n",
      "Mean Squared Error: 0.03866144149454256\n",
      "Model and scaler have been saved successfully.\n"
     ]
    }
   ],
   "source": [
    "# Initial imports\n",
    "import pandas as pd\n",
    "from sklearn.model_selection import train_test_split\n",
    "from sklearn.preprocessing import StandardScaler\n",
    "from sklearn.linear_model import LinearRegression\n",
    "from sklearn.metrics import mean_squared_error\n",
    "import joblib  # For exporting the model\n",
    "\n",
    "# Read data and copy\n",
    "df = pd.read_csv('Resourse\\\\Student_performance_data _.csv')\n",
    "\n",
    "\n",
    "\n",
    "df_model = df.copy()\n",
    "\n",
    "# Dropping StudentID column \n",
    "df = df.drop(columns=['StudentID'])\n",
    "\n",
    "# Replace categorical values for better visualization\n",
    "df['Gender'] = df['Gender'].replace({0: 'male', 1: 'female'})\n",
    "df['Ethnicity'] = df['Ethnicity'].replace({0: 'caucasian', 1: 'african-american', 2: 'asian', 3: 'other'})\n",
    "df['ParentalEducation'] = df['ParentalEducation'].replace({0: 'none', 1: 'high-school', 2: 'some-college', 3: 'bachelors', 4: 'higher'})\n",
    "df['ParentalSupport'] = df['ParentalSupport'].replace({0: 'none', 1: 'low', 2: 'moderate', 3: 'high', 4: 'very high'})\n",
    "df['Tutoring'] = df['Tutoring'].replace({0: 'false', 1: 'true'})\n",
    "df['Extracurricular'] = df['Extracurricular'].replace({0: 'false', 1: 'true'})\n",
    "df['Sports'] = df['Sports'].replace({0: 'false', 1: 'true'})\n",
    "df['Music'] = df['Music'].replace({0: 'false', 1: 'true'})\n",
    "df['Volunteering'] = df['Volunteering'].replace({0: 'false', 1: 'true'})\n",
    "df['GradeClass'] = df['GradeClass'].replace({0.0: 'A', 1.0: 'B', 2.0: 'C', 3.0: 'D', 4.0: 'F'})\n",
    "\n",
    "# Saving the updated dataset as CSV\n",
    "df.to_csv('Resourse/updated_data.csv', index=False)\n",
    "\n",
    "\n",
    "\n",
    "\n",
    "# train model\n",
    "\n",
    "\n",
    "# Drop unnecessary columns for modeling\n",
    "df_model = df_model.drop(columns=['StudentID', 'GradeClass'])\n",
    "\n",
    "# Prepare data for model training\n",
    "# Assuming GPA is a continuous variable and we're performing regression\n",
    "y = df_model['GPA']\n",
    "X = df_model.drop(columns=['GPA'])\n",
    "\n",
    "# Split the data for training and testing\n",
    "X_train, X_test, y_train, y_test = train_test_split(X, y, test_size=0.2, random_state=42)\n",
    "\n",
    "# Standardize the feature data\n",
    "scaler = StandardScaler()\n",
    "X_train_scaled = scaler.fit_transform(X_train)\n",
    "X_test_scaled = scaler.transform(X_test)\n",
    "\n",
    "# Instantiate and train the Linear Regression model\n",
    "linear_regression_model = LinearRegression()\n",
    "linear_regression_model.fit(X_train_scaled, y_train)\n",
    "\n",
    "# Evaluate the model\n",
    "train_score = linear_regression_model.score(X_train_scaled, y_train)\n",
    "test_score = linear_regression_model.score(X_test_scaled, y_test)\n",
    "predictions = linear_regression_model.predict(X_test_scaled)\n",
    "mse = mean_squared_error(y_test, predictions)\n",
    "\n",
    "# Print evaluation metrics\n",
    "print(f\"Training Data Score: {train_score}\")\n",
    "print(f\"Testing Data Score: {test_score}\")\n",
    "print(f\"Mean Squared Error: {mse}\")\n",
    "\n",
    "# Export the trained model and scaler to files\n",
    "joblib.dump(linear_regression_model, 'linear_regression_model.pkl')\n",
    "joblib.dump(scaler, 'scaler.pkl')\n",
    "\n",
    "print(\"Model and scaler have been saved successfully.\")\n"
   ]
  }
 ],
 "metadata": {
  "kernelspec": {
   "display_name": "base",
   "language": "python",
   "name": "python3"
  },
  "language_info": {
   "codemirror_mode": {
    "name": "ipython",
    "version": 3
   },
   "file_extension": ".py",
   "mimetype": "text/x-python",
   "name": "python",
   "nbconvert_exporter": "python",
   "pygments_lexer": "ipython3",
   "version": "3.11.5"
  }
 },
 "nbformat": 4,
 "nbformat_minor": 2
}
